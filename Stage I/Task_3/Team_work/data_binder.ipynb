{
 "cells": [
  {
   "attachments": {},
   "cell_type": "markdown",
   "metadata": {},
   "source": [
    "#### Import Pandas"
   ]
  },
  {
   "cell_type": "code",
   "execution_count": 1,
   "metadata": {},
   "outputs": [],
   "source": [
    "import pandas as pd"
   ]
  },
  {
   "attachments": {},
   "cell_type": "markdown",
   "metadata": {},
   "source": [
    "#### Load out data sets into dateframes"
   ]
  },
  {
   "cell_type": "code",
   "execution_count": 2,
   "metadata": {},
   "outputs": [],
   "source": [
    "covid_cases = pd.read_csv(\"data/employee_data/covid_confirmed_usafacts.csv\")\n",
    "covid_cases = covid_cases.drop(covid_cases.loc[0:, covid_cases.columns.str.contains('2020|2021|2023')], axis=1)\n",
    "covid_deaths = pd.read_csv(\"data/employee_data/covid_deaths_usafacts.csv\")\n",
    "covid_deaths = covid_deaths.drop(covid_deaths.loc[0:, covid_deaths.columns.str.contains('2020|2021|2023')], axis=1)\n",
    "covid_pop = pd.read_csv(\"data/employee_data/covid_county_population_usafacts.csv\")[['countyFIPS','population']]\n",
    "\n",
    "covid_comp = pd.merge(pd.merge(covid_cases, covid_deaths, on=['countyFIPS', 'County Name', 'State', 'StateFIPS'], suffixes=('_confirmed', '_death')), covid_pop, on=['countyFIPS'])\n",
    "covid_comp.to_csv('data/employee_2022_comp.csv', index=False)"
   ]
  }
 ],
 "metadata": {
  "kernelspec": {
   "display_name": "Python 3",
   "language": "python",
   "name": "python3"
  },
  "language_info": {
   "codemirror_mode": {
    "name": "ipython",
    "version": 3
   },
   "file_extension": ".py",
   "mimetype": "text/x-python",
   "name": "python",
   "nbconvert_exporter": "python",
   "pygments_lexer": "ipython3",
   "version": "3.10.7"
  },
  "orig_nbformat": 4,
  "vscode": {
   "interpreter": {
    "hash": "61e70f7ec9876977c6bda9874d51bfa9f7121a530fb5f02874f769f0e9e58af1"
   }
  }
 },
 "nbformat": 4,
 "nbformat_minor": 2
}
